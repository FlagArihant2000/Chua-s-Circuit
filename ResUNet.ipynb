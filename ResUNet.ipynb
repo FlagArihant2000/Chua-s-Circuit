{
  "nbformat": 4,
  "nbformat_minor": 0,
  "metadata": {
    "colab": {
      "name": "ResUNet.ipynb",
      "provenance": [],
      "collapsed_sections": [],
      "authorship_tag": "ABX9TyNeCNnpbdv9duBOi7uLrJl4",
      "include_colab_link": true
    },
    "kernelspec": {
      "name": "python3",
      "display_name": "Python 3"
    },
    "accelerator": "GPU",
    "widgets": {
      "application/vnd.jupyter.widget-state+json": {
        "2c87801dbf1644d5b461031233f7221d": {
          "model_module": "@jupyter-widgets/controls",
          "model_name": "HBoxModel",
          "state": {
            "_view_name": "HBoxView",
            "_dom_classes": [],
            "_model_name": "HBoxModel",
            "_view_module": "@jupyter-widgets/controls",
            "_model_module_version": "1.5.0",
            "_view_count": null,
            "_view_module_version": "1.5.0",
            "box_style": "",
            "layout": "IPY_MODEL_5fbf26e9647640e99d30cfd9ff610dcc",
            "_model_module": "@jupyter-widgets/controls",
            "children": [
              "IPY_MODEL_8f6e26d0ddb54751a3e42f20e14e4dab",
              "IPY_MODEL_8703c70efb804c97989feb38378564e0"
            ]
          }
        },
        "5fbf26e9647640e99d30cfd9ff610dcc": {
          "model_module": "@jupyter-widgets/base",
          "model_name": "LayoutModel",
          "state": {
            "_view_name": "LayoutView",
            "grid_template_rows": null,
            "right": null,
            "justify_content": null,
            "_view_module": "@jupyter-widgets/base",
            "overflow": null,
            "_model_module_version": "1.2.0",
            "_view_count": null,
            "flex_flow": null,
            "width": null,
            "min_width": null,
            "border": null,
            "align_items": null,
            "bottom": null,
            "_model_module": "@jupyter-widgets/base",
            "top": null,
            "grid_column": null,
            "overflow_y": null,
            "overflow_x": null,
            "grid_auto_flow": null,
            "grid_area": null,
            "grid_template_columns": null,
            "flex": null,
            "_model_name": "LayoutModel",
            "justify_items": null,
            "grid_row": null,
            "max_height": null,
            "align_content": null,
            "visibility": null,
            "align_self": null,
            "height": null,
            "min_height": null,
            "padding": null,
            "grid_auto_rows": null,
            "grid_gap": null,
            "max_width": null,
            "order": null,
            "_view_module_version": "1.2.0",
            "grid_template_areas": null,
            "object_position": null,
            "object_fit": null,
            "grid_auto_columns": null,
            "margin": null,
            "display": null,
            "left": null
          }
        },
        "8f6e26d0ddb54751a3e42f20e14e4dab": {
          "model_module": "@jupyter-widgets/controls",
          "model_name": "FloatProgressModel",
          "state": {
            "_view_name": "ProgressView",
            "style": "IPY_MODEL_28bd2fb1349d4699aa301b7660ff5f82",
            "_dom_classes": [],
            "description": "100%",
            "_model_name": "FloatProgressModel",
            "bar_style": "success",
            "max": 46827520,
            "_view_module": "@jupyter-widgets/controls",
            "_model_module_version": "1.5.0",
            "value": 46827520,
            "_view_count": null,
            "_view_module_version": "1.5.0",
            "orientation": "horizontal",
            "min": 0,
            "description_tooltip": null,
            "_model_module": "@jupyter-widgets/controls",
            "layout": "IPY_MODEL_087e19c573644a468daacf4684e1adab"
          }
        },
        "8703c70efb804c97989feb38378564e0": {
          "model_module": "@jupyter-widgets/controls",
          "model_name": "HTMLModel",
          "state": {
            "_view_name": "HTMLView",
            "style": "IPY_MODEL_cdd4a1845e9b44e9aba8efe15e1ffffd",
            "_dom_classes": [],
            "description": "",
            "_model_name": "HTMLModel",
            "placeholder": "​",
            "_view_module": "@jupyter-widgets/controls",
            "_model_module_version": "1.5.0",
            "value": " 44.7M/44.7M [00:11&lt;00:00, 4.15MB/s]",
            "_view_count": null,
            "_view_module_version": "1.5.0",
            "description_tooltip": null,
            "_model_module": "@jupyter-widgets/controls",
            "layout": "IPY_MODEL_4162972a2bff49079f146da469db4ded"
          }
        },
        "28bd2fb1349d4699aa301b7660ff5f82": {
          "model_module": "@jupyter-widgets/controls",
          "model_name": "ProgressStyleModel",
          "state": {
            "_view_name": "StyleView",
            "_model_name": "ProgressStyleModel",
            "description_width": "initial",
            "_view_module": "@jupyter-widgets/base",
            "_model_module_version": "1.5.0",
            "_view_count": null,
            "_view_module_version": "1.2.0",
            "bar_color": null,
            "_model_module": "@jupyter-widgets/controls"
          }
        },
        "087e19c573644a468daacf4684e1adab": {
          "model_module": "@jupyter-widgets/base",
          "model_name": "LayoutModel",
          "state": {
            "_view_name": "LayoutView",
            "grid_template_rows": null,
            "right": null,
            "justify_content": null,
            "_view_module": "@jupyter-widgets/base",
            "overflow": null,
            "_model_module_version": "1.2.0",
            "_view_count": null,
            "flex_flow": null,
            "width": null,
            "min_width": null,
            "border": null,
            "align_items": null,
            "bottom": null,
            "_model_module": "@jupyter-widgets/base",
            "top": null,
            "grid_column": null,
            "overflow_y": null,
            "overflow_x": null,
            "grid_auto_flow": null,
            "grid_area": null,
            "grid_template_columns": null,
            "flex": null,
            "_model_name": "LayoutModel",
            "justify_items": null,
            "grid_row": null,
            "max_height": null,
            "align_content": null,
            "visibility": null,
            "align_self": null,
            "height": null,
            "min_height": null,
            "padding": null,
            "grid_auto_rows": null,
            "grid_gap": null,
            "max_width": null,
            "order": null,
            "_view_module_version": "1.2.0",
            "grid_template_areas": null,
            "object_position": null,
            "object_fit": null,
            "grid_auto_columns": null,
            "margin": null,
            "display": null,
            "left": null
          }
        },
        "cdd4a1845e9b44e9aba8efe15e1ffffd": {
          "model_module": "@jupyter-widgets/controls",
          "model_name": "DescriptionStyleModel",
          "state": {
            "_view_name": "StyleView",
            "_model_name": "DescriptionStyleModel",
            "description_width": "",
            "_view_module": "@jupyter-widgets/base",
            "_model_module_version": "1.5.0",
            "_view_count": null,
            "_view_module_version": "1.2.0",
            "_model_module": "@jupyter-widgets/controls"
          }
        },
        "4162972a2bff49079f146da469db4ded": {
          "model_module": "@jupyter-widgets/base",
          "model_name": "LayoutModel",
          "state": {
            "_view_name": "LayoutView",
            "grid_template_rows": null,
            "right": null,
            "justify_content": null,
            "_view_module": "@jupyter-widgets/base",
            "overflow": null,
            "_model_module_version": "1.2.0",
            "_view_count": null,
            "flex_flow": null,
            "width": null,
            "min_width": null,
            "border": null,
            "align_items": null,
            "bottom": null,
            "_model_module": "@jupyter-widgets/base",
            "top": null,
            "grid_column": null,
            "overflow_y": null,
            "overflow_x": null,
            "grid_auto_flow": null,
            "grid_area": null,
            "grid_template_columns": null,
            "flex": null,
            "_model_name": "LayoutModel",
            "justify_items": null,
            "grid_row": null,
            "max_height": null,
            "align_content": null,
            "visibility": null,
            "align_self": null,
            "height": null,
            "min_height": null,
            "padding": null,
            "grid_auto_rows": null,
            "grid_gap": null,
            "max_width": null,
            "order": null,
            "_view_module_version": "1.2.0",
            "grid_template_areas": null,
            "object_position": null,
            "object_fit": null,
            "grid_auto_columns": null,
            "margin": null,
            "display": null,
            "left": null
          }
        }
      }
    }
  },
  "cells": [
    {
      "cell_type": "markdown",
      "metadata": {
        "id": "view-in-github",
        "colab_type": "text"
      },
      "source": [
        "<a href=\"https://colab.research.google.com/github/FlagArihant2000/Chua-s-Circuit/blob/master/ResUNet.ipynb\" target=\"_parent\"><img src=\"https://colab.research.google.com/assets/colab-badge.svg\" alt=\"Open In Colab\"/></a>"
      ]
    },
    {
      "cell_type": "code",
      "metadata": {
        "colab": {
          "base_uri": "https://localhost:8080/"
        },
        "id": "lk0LPLD2zy8K",
        "outputId": "7b5f34c4-987e-409f-d8cb-c61cc41b7d5a"
      },
      "source": [
        "from google.colab import drive\n",
        "drive.mount('/content/drive')"
      ],
      "execution_count": 1,
      "outputs": [
        {
          "output_type": "stream",
          "text": [
            "Mounted at /content/drive\n"
          ],
          "name": "stdout"
        }
      ]
    },
    {
      "cell_type": "code",
      "metadata": {
        "id": "giyIa8LsT_C1",
        "colab": {
          "base_uri": "https://localhost:8080/"
        },
        "outputId": "713a5a3e-a542-4344-db57-17d800d66870"
      },
      "source": [
        "%cd '/content/drive/My Drive/SemSeg'"
      ],
      "execution_count": 2,
      "outputs": [
        {
          "output_type": "stream",
          "text": [
            "/content/drive/My Drive/SemSeg\n"
          ],
          "name": "stdout"
        }
      ]
    },
    {
      "cell_type": "code",
      "metadata": {
        "id": "MTVs6DGcz7LX"
      },
      "source": [
        "import cv2\n",
        "import numpy as np\n",
        "import matplotlib.pyplot as plt\n",
        "import os\n",
        "import torch\n",
        "import torch.nn as nn\n",
        "import torch.nn.functional as F\n",
        "import torchvision\n",
        "from torchvision import transforms\n",
        "import torch.utils.data as data\n",
        "import torch.optim as optim\n",
        "from torch.utils.data import Dataset, DataLoader\n",
        "from scipy import ndimage\n",
        "#from dataloader import *\n",
        "#from utils import *\n",
        "#from models.unet import *\n",
        "from torchvision import models\n",
        "from torchsummary import summary\n",
        "from sklearn.cluster import KMeans"
      ],
      "execution_count": 3,
      "outputs": []
    },
    {
      "cell_type": "code",
      "metadata": {
        "id": "OQGG9puKmCUk"
      },
      "source": [
        "#dataset = torchvision.datasets.Cityscapes('/cityscapes/', split = 'train', mode = 'fine',\n",
        "#                                          target_type = 'semantic')"
      ],
      "execution_count": null,
      "outputs": []
    },
    {
      "cell_type": "code",
      "metadata": {
        "id": "3E6StwkU0Myy"
      },
      "source": [
        "def c2g(colors, grayscale):\n",
        "  c2g = []\n",
        "  for color in colors:\n",
        "    color = np.reshape(color, (1,1,3))\n",
        "    if grayscale:\n",
        "      gray = cv2.cvtColor(color, cv2.COLOR_BGR2GRAY)\n",
        "    else:\n",
        "      gray = color\n",
        "    c2g.append(gray)\n",
        "  return c2g\n",
        "# Pixel classes\n",
        "colors = np.array([[0,0,0], [111,74,0], [81,0,81], [128,64,128], [244, 35, 232]\n",
        "                   ,[250, 170, 160], [230, 150, 140], [70,70,70], [102,102, 156]\n",
        "                   , [190, 153, 153], [180, 165, 180], [150, 100, 100]\n",
        "                   , [150, 120, 90], [153, 153, 153], [250, 170, 30], [220, 220, 0]\n",
        "                   , [107, 142, 35], [152, 251, 152], [70, 130, 180], [220, 20, 60]\n",
        "                   , [255, 0, 0], [0, 0, 142], [0, 0, 70], [0, 60, 100], [0, 0, 90]\n",
        "                   , [0, 0, 110], [0, 80, 100], [0, 0, 230], [119, 11, 32], [0, 0, 142]], dtype = np.uint8)"
      ],
      "execution_count": 4,
      "outputs": []
    },
    {
      "cell_type": "code",
      "metadata": {
        "colab": {
          "base_uri": "https://localhost:8080/"
        },
        "id": "FMUhLn8cv4VT",
        "outputId": "833fccb0-2b03-4cbf-b23a-bf9161bf5384"
      },
      "source": [
        "label_model = KMeans(n_clusters = 30)\n",
        "label_model.fit(colors)"
      ],
      "execution_count": 5,
      "outputs": [
        {
          "output_type": "stream",
          "text": [
            "/usr/local/lib/python3.6/dist-packages/ipykernel_launcher.py:2: ConvergenceWarning: Number of distinct clusters (29) found smaller than n_clusters (30). Possibly due to duplicate points in X.\n",
            "  \n"
          ],
          "name": "stderr"
        },
        {
          "output_type": "execute_result",
          "data": {
            "text/plain": [
              "KMeans(algorithm='auto', copy_x=True, init='k-means++', max_iter=300,\n",
              "       n_clusters=30, n_init=10, n_jobs=None, precompute_distances='auto',\n",
              "       random_state=None, tol=0.0001, verbose=0)"
            ]
          },
          "metadata": {
            "tags": []
          },
          "execution_count": 5
        }
      ]
    },
    {
      "cell_type": "code",
      "metadata": {
        "id": "5Nt-sdb5tR_p"
      },
      "source": [
        "image_corr = cv2.imread('/content/drive/My Drive/SemSeg/CamVid/train/0001TP_009210.png')\n",
        "label_corr = cv2.imread('/content/drive/My Drive/SemSeg/CamVid/train_labels/0001TP_009210_L.png')"
      ],
      "execution_count": 6,
      "outputs": []
    },
    {
      "cell_type": "code",
      "metadata": {
        "id": "awuTpoayvSFZ"
      },
      "source": [
        "label_cls = label_model.predict(label_corr.reshape(-1,3)).reshape(720,960)"
      ],
      "execution_count": 7,
      "outputs": []
    },
    {
      "cell_type": "code",
      "metadata": {
        "colab": {
          "base_uri": "https://localhost:8080/",
          "height": 143
        },
        "id": "yA_M2-I8t7mm",
        "outputId": "2e009ba6-6605-471d-ab4f-33f8802a5bf8"
      },
      "source": [
        "plt.subplot(131)\n",
        "plt.imshow(image_corr)\n",
        "plt.subplot(132)\n",
        "plt.imshow(label_corr)\n",
        "plt.subplot(133)\n",
        "plt.imshow(label_cls)"
      ],
      "execution_count": 8,
      "outputs": [
        {
          "output_type": "execute_result",
          "data": {
            "text/plain": [
              "<matplotlib.image.AxesImage at 0x7f33ab9eb2e8>"
            ]
          },
          "metadata": {
            "tags": []
          },
          "execution_count": 8
        },
        {
          "output_type": "display_data",
          "data": {
            "image/png": "[encoded data removed]",
            "text/plain": [
              "<Figure size 432x288 with 3 Axes>"
            ]
          },
          "metadata": {
            "tags": [],
            "needs_background": "light"
          }
        }
      ]
    },
    {
      "cell_type": "code",
      "metadata": {
        "id": "NdHYDg2hvIG6"
      },
      "source": [
        "#colors = c2g(colors, grayscale = True)"
      ],
      "execution_count": 9,
      "outputs": []
    },
    {
      "cell_type": "code",
      "metadata": {
        "id": "pPW1D0Rp0dzQ"
      },
      "source": [
        "# Perform Data Loading\n",
        "\n",
        "transform_img = transforms.Compose([transforms.ToTensor(),\n",
        "                                    transforms.Normalize(mean=[0.485, 0.456, 0.406],std=[0.229, 0.224, 0.225])])\n",
        "transform_label = transforms.Compose([transforms.ToTensor()])"
      ],
      "execution_count": 10,
      "outputs": []
    },
    {
      "cell_type": "code",
      "metadata": {
        "colab": {
          "base_uri": "https://localhost:8080/",
          "height": 35
        },
        "id": "WD3L9I1ITtUD",
        "outputId": "4bc49770-f5a0-460a-ef1d-65573fee58e4"
      },
      "source": [
        "os.getcwd()"
      ],
      "execution_count": 11,
      "outputs": [
        {
          "output_type": "execute_result",
          "data": {
            "application/vnd.google.colaboratory.intrinsic+json": {
              "type": "string"
            },
            "text/plain": [
              "'/content/drive/My Drive/SemSeg'"
            ]
          },
          "metadata": {
            "tags": []
          },
          "execution_count": 11
        }
      ]
    },
    {
      "cell_type": "code",
      "metadata": {
        "id": "oLMzrKJE6J9J"
      },
      "source": [
        "def load_img(directory, gray, input):\n",
        "  images = []\n",
        "  for img in sorted(os.listdir(directory)):\n",
        "    img = cv2.imread(os.path.join(directory, img))\n",
        "    if input:\n",
        "      img = cv2.resize(img, (224, 224), interpolation = cv2.INTER_AREA)\n",
        "    else:\n",
        "      img = cv2.resize(img, (224, 224), interpolation = cv2.INTER_AREA)\n",
        "    if gray:\n",
        "      img = cv2.cvtColor(img, cv2.COLOR_BGR2GRAY)\n",
        "    images.append(img)\n",
        "  return images\n",
        "\n",
        "def class_pix(labelimg, colors):\n",
        "  class_pix = np.ones([224,224,1], dtype = int)\n",
        "  for index, c in enumerate(colors):\n",
        "    class_pix[labelimg == c] = index\n",
        "  return class_pix\n",
        "\n",
        "def label(imagelist, colors):\n",
        "  images = []\n",
        "  for img in imagelist:\n",
        "    images.append(class_pix(img, colors))\n",
        "  return images"
      ],
      "execution_count": 15,
      "outputs": []
    },
    {
      "cell_type": "code",
      "metadata": {
        "id": "Ndo30pGAxkUd"
      },
      "source": [
        "class CamVid(data.Dataset):\n",
        "  def __init__(self, transform = None, imgdir = None, labeldir = None, transformlabel = None, label_model = None):\n",
        "    self.label_model = label_model\n",
        "    self.train_img = load_img(imgdir, gray = False, input = True)\n",
        "    self.train_label = load_img(labeldir, gray = False, input = True)\n",
        "    self.transform = transform\n",
        "    self.transformlabel = transformlabel\n",
        "  def __len__(self):\n",
        "    return len(self.train_img)\n",
        "  def __getitem__(self, index):\n",
        "    img = self.transform(self.train_img[index])\n",
        "    label = self.label_model.predict(self.train_label[index].reshape(-1,3)).reshape(224,224)\n",
        "    label = self.transformlabel(label)\n",
        "    return img, label"
      ],
      "execution_count": 16,
      "outputs": []
    },
    {
      "cell_type": "code",
      "metadata": {
        "id": "MI5kfgNy0DaN"
      },
      "source": [
        "trainset = CamVid(transform = transform_img, imgdir = os.path.join(os.getcwd(),'CamVid/train'),\n",
        "                 labeldir = os.path.join(os.getcwd(), 'CamVid/train_labels'),\n",
        "                  transformlabel = transform_label, label_model = label_model)\n",
        "valset = CamVid(transform = transform_img, imgdir = os.path.join(os.getcwd(),'CamVid/val'),\n",
        "                 labeldir = os.path.join(os.getcwd(), 'CamVid/val_labels'),\n",
        "                  transformlabel = transform_label, label_model = label_model)\n",
        "testset = CamVid(transform = transform_img, imgdir = os.path.join(os.getcwd(),'CamVid/test'),\n",
        "                 labeldir = os.path.join(os.getcwd(), 'CamVid/test_labels'),\n",
        "                  transformlabel = transform_label, label_model = label_model)"
      ],
      "execution_count": 17,
      "outputs": []
    },
    {
      "cell_type": "code",
      "metadata": {
        "id": "F1xLUH011aWg"
      },
      "source": [
        "train_loader = data.DataLoader(trainset, batch_size = 1, shuffle = True, num_workers = 4)\n",
        "val_loader = data.DataLoader(valset, batch_size = 1, shuffle = True, num_workers = 4)\n",
        "test_loader = data.DataLoader(testset, batch_size = 1, shuffle = True, num_workers = 4)"
      ],
      "execution_count": 18,
      "outputs": []
    },
    {
      "cell_type": "code",
      "metadata": {
        "colab": {
          "base_uri": "https://localhost:8080/"
        },
        "id": "Nq3HDSeSnSls",
        "outputId": "eb9b0707-926f-4063-b0cb-26cda5cd0806"
      },
      "source": [
        "device = torch.device(\"cuda:0\" if torch.cuda.is_available() else \"cpu\")\n",
        "print(device)"
      ],
      "execution_count": 19,
      "outputs": [
        {
          "output_type": "stream",
          "text": [
            "cuda:0\n"
          ],
          "name": "stdout"
        }
      ]
    },
    {
      "cell_type": "code",
      "metadata": {
        "colab": {
          "base_uri": "https://localhost:8080/",
          "height": 35
        },
        "id": "Xq2lB-VdnX_R",
        "outputId": "ddb8f240-055a-49c4-982b-494680213b10"
      },
      "source": [
        "torch.cuda.get_device_name(0)"
      ],
      "execution_count": 20,
      "outputs": [
        {
          "output_type": "execute_result",
          "data": {
            "application/vnd.google.colaboratory.intrinsic+json": {
              "type": "string"
            },
            "text/plain": [
              "'Tesla T4'"
            ]
          },
          "metadata": {
            "tags": []
          },
          "execution_count": 20
        }
      ]
    },
    {
      "cell_type": "code",
      "metadata": {
        "id": "oyPokphByGcj"
      },
      "source": [
        "def convrelu(in_channels, out_channels, kernel, padding):\n",
        "  return nn.Sequential(nn.Conv2d(in_channels, out_channels, kernel, padding = padding),\n",
        "                       nn.ReLU(inplace = True)\n",
        "  )\n",
        "\n",
        "class ResUNet(nn.Module):\n",
        "  def __init__(self, n_class):\n",
        "    super().__init__()\n",
        "    self.base_model = models.resnet18(pretrained = True)\n",
        "    self.base_layers = list(base_model.children())\n",
        "    self.layer0 = nn.Sequential(*self.base_layers[:3])\n",
        "    self.layer0_1x1 = convrelu(64, 64, 1, 0)\n",
        "    self.layer1 = nn.Sequential(*self.base_layers[3:5])\n",
        "    self.layer1_1x1 = convrelu(64, 64, 1, 0)\n",
        "    self.layer2 = self.base_layers[5]\n",
        "    self.layer2_1x1 = convrelu(128, 128, 1, 0)\n",
        "    self.layer3 = self.base_layers[6]\n",
        "    self.layer3_1x1 = convrelu(256, 256, 1, 0)\n",
        "    self.layer4 = self.base_layers[7]\n",
        "    self.layer4_1x1 = convrelu(512, 512, 1, 0)\n",
        "    self.upsample = nn.Upsample(scale_factor = 2, mode = 'bilinear', align_corners= True)\n",
        "    self.conv_up3 = convrelu(256 + 512, 512, 3, 1)\n",
        "    self.conv_up2 = convrelu(128 + 512, 256, 3, 1)\n",
        "    self.conv_up1 = convrelu(64 + 256, 256, 3, 1)\n",
        "    self.conv_up0 = convrelu(64 + 256, 128, 3, 1)\n",
        "\n",
        "    self.conv_original_size0 = convrelu(3, 64, 3, 1)\n",
        "    self.conv_original_size1 = convrelu(64, 64, 3, 1)\n",
        "    self.conv_original_size2 = convrelu(64 + 128, 64, 3, 1)\n",
        "\n",
        "    self.conv_last = nn.Conv2d(64, n_class, 1)\n",
        "\n",
        "  def forward(self, input):\n",
        "    x_original = self.conv_original_size0(input)\n",
        "    x_original = self.conv_original_size1(x_original)\n",
        "\n",
        "    layer0 = self.layer0(input)\n",
        "    layer1 = self.layer1(layer0)\n",
        "    layer2 = self.layer2(layer1)\n",
        "    layer3 = self.layer3(layer2)\n",
        "    layer4 = self.layer4(layer3)\n",
        "    #print(layer2.size(), layer1.size(), layer0.size(), input.size())\n",
        "    layer4 = self.layer4_1x1(layer4)\n",
        "    \n",
        "    x = self.upsample(layer4)\n",
        "    layer3 = self.layer3_1x1(layer3)\n",
        "    x = torch.cat([x, layer3], dim = 1)\n",
        "    x = self.conv_up3(x)\n",
        "    \n",
        "    x = self.upsample(x)\n",
        "    layer2 = self.layer2_1x1(layer2)\n",
        "    x = torch.cat([x, layer2], dim = 1)\n",
        "    x = self.conv_up2(x)\n",
        "    \n",
        "    x = self.upsample(x)\n",
        "    layer1 = self.layer1_1x1(layer1)\n",
        "    x = torch.cat([x, layer1], dim = 1)\n",
        "    x = self.conv_up1(x)\n",
        "\n",
        "    x = self.upsample(x)\n",
        "    layer0 = self.layer0_1x1(layer0)\n",
        "    x = torch.cat([x, layer0], dim = 1)\n",
        "    x = self.conv_up0(x)\n",
        "\n",
        "    x = self.upsample(x)\n",
        "    x = torch.cat([x, x_original], dim = 1)\n",
        "    x = self.conv_original_size2(x)\n",
        "\n",
        "    out = self.conv_last(x)\n",
        "\n",
        "    return out"
      ],
      "execution_count": 21,
      "outputs": []
    },
    {
      "cell_type": "code",
      "metadata": {
        "id": "DgKg8E_E07TH"
      },
      "source": [
        "#base_model = models.resnet18(pretrained = True)\n",
        "#model = ResUNet(32)\n",
        "#model = model.to(device)\n",
        "#summary(model, input_size = (3,224,224))"
      ],
      "execution_count": null,
      "outputs": []
    },
    {
      "cell_type": "code",
      "metadata": {
        "id": "GI9FVt7P1t5G",
        "colab": {
          "base_uri": "https://localhost:8080/",
          "height": 103,
          "referenced_widgets": [
            "2c87801dbf1644d5b461031233f7221d",
            "5fbf26e9647640e99d30cfd9ff610dcc",
            "8f6e26d0ddb54751a3e42f20e14e4dab",
            "8703c70efb804c97989feb38378564e0",
            "28bd2fb1349d4699aa301b7660ff5f82",
            "087e19c573644a468daacf4684e1adab",
            "cdd4a1845e9b44e9aba8efe15e1ffffd",
            "4162972a2bff49079f146da469db4ded"
          ]
        },
        "outputId": "fecae59e-f7b7-4a59-dc38-203af933e482"
      },
      "source": [
        "base_model = models.resnet18(pretrained = True)\n",
        "UNET = ResUNet(32)"
      ],
      "execution_count": 22,
      "outputs": [
        {
          "output_type": "stream",
          "text": [
            "Downloading: \"https://download.pytorch.org/models/resnet18-5c106cde.pth\" to /root/.cache/torch/hub/checkpoints/resnet18-5c106cde.pth\n"
          ],
          "name": "stderr"
        },
        {
          "output_type": "display_data",
          "data": {
            "application/vnd.jupyter.widget-view+json": {
              "model_id": "2c87801dbf1644d5b461031233f7221d",
              "version_minor": 0,
              "version_major": 2
            },
            "text/plain": [
              "HBox(children=(FloatProgress(value=0.0, max=46827520.0), HTML(value='')))"
            ]
          },
          "metadata": {
            "tags": []
          }
        },
        {
          "output_type": "stream",
          "text": [
            "\n"
          ],
          "name": "stdout"
        }
      ]
    },
    {
      "cell_type": "code",
      "metadata": {
        "id": "W56AVC7bn-9h",
        "colab": {
          "base_uri": "https://localhost:8080/"
        },
        "outputId": "1beff697-6458-4435-9548-550dbe26b336"
      },
      "source": [
        "#UNET = UNet()\n",
        "UNET.to(device)"
      ],
      "execution_count": 23,
      "outputs": [
        {
          "output_type": "execute_result",
          "data": {
            "text/plain": [
              "ResUNet(\n",
              "  (base_model): ResNet(\n",
              "    (conv1): Conv2d(3, 64, kernel_size=(7, 7), stride=(2, 2), padding=(3, 3), bias=False)\n",
              "    (bn1): BatchNorm2d(64, eps=1e-05, momentum=0.1, affine=True, track_running_stats=True)\n",
              "    (relu): ReLU(inplace=True)\n",
              "    (maxpool): MaxPool2d(kernel_size=3, stride=2, padding=1, dilation=1, ceil_mode=False)\n",
              "    (layer1): Sequential(\n",
              "      (0): BasicBlock(\n",
              "        (conv1): Conv2d(64, 64, kernel_size=(3, 3), stride=(1, 1), padding=(1, 1), bias=False)\n",
              "        (bn1): BatchNorm2d(64, eps=1e-05, momentum=0.1, affine=True, track_running_stats=True)\n",
              "        (relu): ReLU(inplace=True)\n",
              "        (conv2): Conv2d(64, 64, kernel_size=(3, 3), stride=(1, 1), padding=(1, 1), bias=False)\n",
              "        (bn2): BatchNorm2d(64, eps=1e-05, momentum=0.1, affine=True, track_running_stats=True)\n",
              "      )\n",
              "      (1): BasicBlock(\n",
              "        (conv1): Conv2d(64, 64, kernel_size=(3, 3), stride=(1, 1), padding=(1, 1), bias=False)\n",
              "        (bn1): BatchNorm2d(64, eps=1e-05, momentum=0.1, affine=True, track_running_stats=True)\n",
              "        (relu): ReLU(inplace=True)\n",
              "        (conv2): Conv2d(64, 64, kernel_size=(3, 3), stride=(1, 1), padding=(1, 1), bias=False)\n",
              "        (bn2): BatchNorm2d(64, eps=1e-05, momentum=0.1, affine=True, track_running_stats=True)\n",
              "      )\n",
              "    )\n",
              "    (layer2): Sequential(\n",
              "      (0): BasicBlock(\n",
              "        (conv1): Conv2d(64, 128, kernel_size=(3, 3), stride=(2, 2), padding=(1, 1), bias=False)\n",
              "        (bn1): BatchNorm2d(128, eps=1e-05, momentum=0.1, affine=True, track_running_stats=True)\n",
              "        (relu): ReLU(inplace=True)\n",
              "        (conv2): Conv2d(128, 128, kernel_size=(3, 3), stride=(1, 1), padding=(1, 1), bias=False)\n",
              "        (bn2): BatchNorm2d(128, eps=1e-05, momentum=0.1, affine=True, track_running_stats=True)\n",
              "        (downsample): Sequential(\n",
              "          (0): Conv2d(64, 128, kernel_size=(1, 1), stride=(2, 2), bias=False)\n",
              "          (1): BatchNorm2d(128, eps=1e-05, momentum=0.1, affine=True, track_running_stats=True)\n",
              "        )\n",
              "      )\n",
              "      (1): BasicBlock(\n",
              "        (conv1): Conv2d(128, 128, kernel_size=(3, 3), stride=(1, 1), padding=(1, 1), bias=False)\n",
              "        (bn1): BatchNorm2d(128, eps=1e-05, momentum=0.1, affine=True, track_running_stats=True)\n",
              "        (relu): ReLU(inplace=True)\n",
              "        (conv2): Conv2d(128, 128, kernel_size=(3, 3), stride=(1, 1), padding=(1, 1), bias=False)\n",
              "        (bn2): BatchNorm2d(128, eps=1e-05, momentum=0.1, affine=True, track_running_stats=True)\n",
              "      )\n",
              "    )\n",
              "    (layer3): Sequential(\n",
              "      (0): BasicBlock(\n",
              "        (conv1): Conv2d(128, 256, kernel_size=(3, 3), stride=(2, 2), padding=(1, 1), bias=False)\n",
              "        (bn1): BatchNorm2d(256, eps=1e-05, momentum=0.1, affine=True, track_running_stats=True)\n",
              "        (relu): ReLU(inplace=True)\n",
              "        (conv2): Conv2d(256, 256, kernel_size=(3, 3), stride=(1, 1), padding=(1, 1), bias=False)\n",
              "        (bn2): BatchNorm2d(256, eps=1e-05, momentum=0.1, affine=True, track_running_stats=True)\n",
              "        (downsample): Sequential(\n",
              "          (0): Conv2d(128, 256, kernel_size=(1, 1), stride=(2, 2), bias=False)\n",
              "          (1): BatchNorm2d(256, eps=1e-05, momentum=0.1, affine=True, track_running_stats=True)\n",
              "        )\n",
              "      )\n",
              "      (1): BasicBlock(\n",
              "        (conv1): Conv2d(256, 256, kernel_size=(3, 3), stride=(1, 1), padding=(1, 1), bias=False)\n",
              "        (bn1): BatchNorm2d(256, eps=1e-05, momentum=0.1, affine=True, track_running_stats=True)\n",
              "        (relu): ReLU(inplace=True)\n",
              "        (conv2): Conv2d(256, 256, kernel_size=(3, 3), stride=(1, 1), padding=(1, 1), bias=False)\n",
              "        (bn2): BatchNorm2d(256, eps=1e-05, momentum=0.1, affine=True, track_running_stats=True)\n",
              "      )\n",
              "    )\n",
              "    (layer4): Sequential(\n",
              "      (0): BasicBlock(\n",
              "        (conv1): Conv2d(256, 512, kernel_size=(3, 3), stride=(2, 2), padding=(1, 1), bias=False)\n",
              "        (bn1): BatchNorm2d(512, eps=1e-05, momentum=0.1, affine=True, track_running_stats=True)\n",
              "        (relu): ReLU(inplace=True)\n",
              "        (conv2): Conv2d(512, 512, kernel_size=(3, 3), stride=(1, 1), padding=(1, 1), bias=False)\n",
              "        (bn2): BatchNorm2d(512, eps=1e-05, momentum=0.1, affine=True, track_running_stats=True)\n",
              "        (downsample): Sequential(\n",
              "          (0): Conv2d(256, 512, kernel_size=(1, 1), stride=(2, 2), bias=False)\n",
              "          (1): BatchNorm2d(512, eps=1e-05, momentum=0.1, affine=True, track_running_stats=True)\n",
              "        )\n",
              "      )\n",
              "      (1): BasicBlock(\n",
              "        (conv1): Conv2d(512, 512, kernel_size=(3, 3), stride=(1, 1), padding=(1, 1), bias=False)\n",
              "        (bn1): BatchNorm2d(512, eps=1e-05, momentum=0.1, affine=True, track_running_stats=True)\n",
              "        (relu): ReLU(inplace=True)\n",
              "        (conv2): Conv2d(512, 512, kernel_size=(3, 3), stride=(1, 1), padding=(1, 1), bias=False)\n",
              "        (bn2): BatchNorm2d(512, eps=1e-05, momentum=0.1, affine=True, track_running_stats=True)\n",
              "      )\n",
              "    )\n",
              "    (avgpool): AdaptiveAvgPool2d(output_size=(1, 1))\n",
              "    (fc): Linear(in_features=512, out_features=1000, bias=True)\n",
              "  )\n",
              "  (layer0): Sequential(\n",
              "    (0): Conv2d(3, 64, kernel_size=(7, 7), stride=(2, 2), padding=(3, 3), bias=False)\n",
              "    (1): BatchNorm2d(64, eps=1e-05, momentum=0.1, affine=True, track_running_stats=True)\n",
              "    (2): ReLU(inplace=True)\n",
              "  )\n",
              "  (layer0_1x1): Sequential(\n",
              "    (0): Conv2d(64, 64, kernel_size=(1, 1), stride=(1, 1))\n",
              "    (1): ReLU(inplace=True)\n",
              "  )\n",
              "  (layer1): Sequential(\n",
              "    (0): MaxPool2d(kernel_size=3, stride=2, padding=1, dilation=1, ceil_mode=False)\n",
              "    (1): Sequential(\n",
              "      (0): BasicBlock(\n",
              "        (conv1): Conv2d(64, 64, kernel_size=(3, 3), stride=(1, 1), padding=(1, 1), bias=False)\n",
              "        (bn1): BatchNorm2d(64, eps=1e-05, momentum=0.1, affine=True, track_running_stats=True)\n",
              "        (relu): ReLU(inplace=True)\n",
              "        (conv2): Conv2d(64, 64, kernel_size=(3, 3), stride=(1, 1), padding=(1, 1), bias=False)\n",
              "        (bn2): BatchNorm2d(64, eps=1e-05, momentum=0.1, affine=True, track_running_stats=True)\n",
              "      )\n",
              "      (1): BasicBlock(\n",
              "        (conv1): Conv2d(64, 64, kernel_size=(3, 3), stride=(1, 1), padding=(1, 1), bias=False)\n",
              "        (bn1): BatchNorm2d(64, eps=1e-05, momentum=0.1, affine=True, track_running_stats=True)\n",
              "        (relu): ReLU(inplace=True)\n",
              "        (conv2): Conv2d(64, 64, kernel_size=(3, 3), stride=(1, 1), padding=(1, 1), bias=False)\n",
              "        (bn2): BatchNorm2d(64, eps=1e-05, momentum=0.1, affine=True, track_running_stats=True)\n",
              "      )\n",
              "    )\n",
              "  )\n",
              "  (layer1_1x1): Sequential(\n",
              "    (0): Conv2d(64, 64, kernel_size=(1, 1), stride=(1, 1))\n",
              "    (1): ReLU(inplace=True)\n",
              "  )\n",
              "  (layer2): Sequential(\n",
              "    (0): BasicBlock(\n",
              "      (conv1): Conv2d(64, 128, kernel_size=(3, 3), stride=(2, 2), padding=(1, 1), bias=False)\n",
              "      (bn1): BatchNorm2d(128, eps=1e-05, momentum=0.1, affine=True, track_running_stats=True)\n",
              "      (relu): ReLU(inplace=True)\n",
              "      (conv2): Conv2d(128, 128, kernel_size=(3, 3), stride=(1, 1), padding=(1, 1), bias=False)\n",
              "      (bn2): BatchNorm2d(128, eps=1e-05, momentum=0.1, affine=True, track_running_stats=True)\n",
              "      (downsample): Sequential(\n",
              "        (0): Conv2d(64, 128, kernel_size=(1, 1), stride=(2, 2), bias=False)\n",
              "        (1): BatchNorm2d(128, eps=1e-05, momentum=0.1, affine=True, track_running_stats=True)\n",
              "      )\n",
              "    )\n",
              "    (1): BasicBlock(\n",
              "      (conv1): Conv2d(128, 128, kernel_size=(3, 3), stride=(1, 1), padding=(1, 1), bias=False)\n",
              "      (bn1): BatchNorm2d(128, eps=1e-05, momentum=0.1, affine=True, track_running_stats=True)\n",
              "      (relu): ReLU(inplace=True)\n",
              "      (conv2): Conv2d(128, 128, kernel_size=(3, 3), stride=(1, 1), padding=(1, 1), bias=False)\n",
              "      (bn2): BatchNorm2d(128, eps=1e-05, momentum=0.1, affine=True, track_running_stats=True)\n",
              "    )\n",
              "  )\n",
              "  (layer2_1x1): Sequential(\n",
              "    (0): Conv2d(128, 128, kernel_size=(1, 1), stride=(1, 1))\n",
              "    (1): ReLU(inplace=True)\n",
              "  )\n",
              "  (layer3): Sequential(\n",
              "    (0): BasicBlock(\n",
              "      (conv1): Conv2d(128, 256, kernel_size=(3, 3), stride=(2, 2), padding=(1, 1), bias=False)\n",
              "      (bn1): BatchNorm2d(256, eps=1e-05, momentum=0.1, affine=True, track_running_stats=True)\n",
              "      (relu): ReLU(inplace=True)\n",
              "      (conv2): Conv2d(256, 256, kernel_size=(3, 3), stride=(1, 1), padding=(1, 1), bias=False)\n",
              "      (bn2): BatchNorm2d(256, eps=1e-05, momentum=0.1, affine=True, track_running_stats=True)\n",
              "      (downsample): Sequential(\n",
              "        (0): Conv2d(128, 256, kernel_size=(1, 1), stride=(2, 2), bias=False)\n",
              "        (1): BatchNorm2d(256, eps=1e-05, momentum=0.1, affine=True, track_running_stats=True)\n",
              "      )\n",
              "    )\n",
              "    (1): BasicBlock(\n",
              "      (conv1): Conv2d(256, 256, kernel_size=(3, 3), stride=(1, 1), padding=(1, 1), bias=False)\n",
              "      (bn1): BatchNorm2d(256, eps=1e-05, momentum=0.1, affine=True, track_running_stats=True)\n",
              "      (relu): ReLU(inplace=True)\n",
              "      (conv2): Conv2d(256, 256, kernel_size=(3, 3), stride=(1, 1), padding=(1, 1), bias=False)\n",
              "      (bn2): BatchNorm2d(256, eps=1e-05, momentum=0.1, affine=True, track_running_stats=True)\n",
              "    )\n",
              "  )\n",
              "  (layer3_1x1): Sequential(\n",
              "    (0): Conv2d(256, 256, kernel_size=(1, 1), stride=(1, 1))\n",
              "    (1): ReLU(inplace=True)\n",
              "  )\n",
              "  (layer4): Sequential(\n",
              "    (0): BasicBlock(\n",
              "      (conv1): Conv2d(256, 512, kernel_size=(3, 3), stride=(2, 2), padding=(1, 1), bias=False)\n",
              "      (bn1): BatchNorm2d(512, eps=1e-05, momentum=0.1, affine=True, track_running_stats=True)\n",
              "      (relu): ReLU(inplace=True)\n",
              "      (conv2): Conv2d(512, 512, kernel_size=(3, 3), stride=(1, 1), padding=(1, 1), bias=False)\n",
              "      (bn2): BatchNorm2d(512, eps=1e-05, momentum=0.1, affine=True, track_running_stats=True)\n",
              "      (downsample): Sequential(\n",
              "        (0): Conv2d(256, 512, kernel_size=(1, 1), stride=(2, 2), bias=False)\n",
              "        (1): BatchNorm2d(512, eps=1e-05, momentum=0.1, affine=True, track_running_stats=True)\n",
              "      )\n",
              "    )\n",
              "    (1): BasicBlock(\n",
              "      (conv1): Conv2d(512, 512, kernel_size=(3, 3), stride=(1, 1), padding=(1, 1), bias=False)\n",
              "      (bn1): BatchNorm2d(512, eps=1e-05, momentum=0.1, affine=True, track_running_stats=True)\n",
              "      (relu): ReLU(inplace=True)\n",
              "      (conv2): Conv2d(512, 512, kernel_size=(3, 3), stride=(1, 1), padding=(1, 1), bias=False)\n",
              "      (bn2): BatchNorm2d(512, eps=1e-05, momentum=0.1, affine=True, track_running_stats=True)\n",
              "    )\n",
              "  )\n",
              "  (layer4_1x1): Sequential(\n",
              "    (0): Conv2d(512, 512, kernel_size=(1, 1), stride=(1, 1))\n",
              "    (1): ReLU(inplace=True)\n",
              "  )\n",
              "  (upsample): Upsample(scale_factor=2.0, mode=bilinear)\n",
              "  (conv_up3): Sequential(\n",
              "    (0): Conv2d(768, 512, kernel_size=(3, 3), stride=(1, 1), padding=(1, 1))\n",
              "    (1): ReLU(inplace=True)\n",
              "  )\n",
              "  (conv_up2): Sequential(\n",
              "    (0): Conv2d(640, 256, kernel_size=(3, 3), stride=(1, 1), padding=(1, 1))\n",
              "    (1): ReLU(inplace=True)\n",
              "  )\n",
              "  (conv_up1): Sequential(\n",
              "    (0): Conv2d(320, 256, kernel_size=(3, 3), stride=(1, 1), padding=(1, 1))\n",
              "    (1): ReLU(inplace=True)\n",
              "  )\n",
              "  (conv_up0): Sequential(\n",
              "    (0): Conv2d(320, 128, kernel_size=(3, 3), stride=(1, 1), padding=(1, 1))\n",
              "    (1): ReLU(inplace=True)\n",
              "  )\n",
              "  (conv_original_size0): Sequential(\n",
              "    (0): Conv2d(3, 64, kernel_size=(3, 3), stride=(1, 1), padding=(1, 1))\n",
              "    (1): ReLU(inplace=True)\n",
              "  )\n",
              "  (conv_original_size1): Sequential(\n",
              "    (0): Conv2d(64, 64, kernel_size=(3, 3), stride=(1, 1), padding=(1, 1))\n",
              "    (1): ReLU(inplace=True)\n",
              "  )\n",
              "  (conv_original_size2): Sequential(\n",
              "    (0): Conv2d(192, 64, kernel_size=(3, 3), stride=(1, 1), padding=(1, 1))\n",
              "    (1): ReLU(inplace=True)\n",
              "  )\n",
              "  (conv_last): Conv2d(64, 32, kernel_size=(1, 1), stride=(1, 1))\n",
              ")"
            ]
          },
          "metadata": {
            "tags": []
          },
          "execution_count": 23
        }
      ]
    },
    {
      "cell_type": "code",
      "metadata": {
        "id": "92zv99wCnYqG"
      },
      "source": [
        "criterion = nn.CrossEntropyLoss()\n",
        "optimizer = optim.Adam(UNET.parameters(), lr = 0.001, betas = (0.9, 0.999), eps = 1e-08, weight_decay = 0, amsgrad = False)"
      ],
      "execution_count": 24,
      "outputs": []
    },
    {
      "cell_type": "code",
      "metadata": {
        "id": "5vV3oC95hLy-"
      },
      "source": [
        "#import os\n",
        "#os._exit(00)"
      ],
      "execution_count": 25,
      "outputs": []
    },
    {
      "cell_type": "code",
      "metadata": {
        "id": "lYtGnX0KzhrU"
      },
      "source": [
        "#UNET = torch.load(os.path.join(os.getcwd(), unet20.pth))"
      ],
      "execution_count": 26,
      "outputs": []
    },
    {
      "cell_type": "code",
      "metadata": {
        "id": "ie1hbAZv9nnc",
        "colab": {
          "base_uri": "https://localhost:8080/"
        },
        "outputId": "36e20728-1120-4118-811d-cd2055f3d61d"
      },
      "source": [
        "train_loss = []\n",
        "val_loss = []\n",
        "epochs = 100\n",
        "for ep in range(epochs):\n",
        "  UNET.train()\n",
        "  running_loss = 0.0\n",
        "  counter = 0\n",
        "  for i, data in enumerate(train_loader):\n",
        "    inputs, labels = data\n",
        "    inputs, labels = inputs.to(device), labels.to(device)\n",
        "    if labels.size() == torch.Size([1, 1, 224, 224]):\n",
        "      labels = labels.reshape(1, 224, 224)\n",
        "    optimizer.zero_grad()\n",
        "    outputs = UNET(inputs)\n",
        "    #print(outputs.dtype, labels.dtype)\n",
        "    loss = criterion(outputs, labels.long())\n",
        "    loss.backward()\n",
        "    optimizer.step()\n",
        "    running_loss = running_loss + loss.item()\n",
        "    counter = counter + 1\n",
        "  epoch_loss = running_loss/counter\n",
        "  print('Epoch {}/{}, {} Loss: {:.4f}'.format(ep, epochs, 'Training', epoch_loss))\n",
        "  train_loss = train_loss + [epoch_loss]\n",
        "  UNET.eval()\n",
        "  running_loss = 0.0\n",
        "  counter = 0\n",
        "  for i, data in enumerate(val_loader):\n",
        "    inputs, labels = data\n",
        "    inputs, labels = inputs.to(device), labels.to(device)\n",
        "    if labels.size() == torch.Size([1, 1, 224, 224]):\n",
        "      labels = labels.reshape(1, 224, 224)\n",
        "    optimizer.zero_grad()\n",
        "    outputs = UNET(inputs)\n",
        "    loss = criterion(outputs, labels.long())\n",
        "    running_loss = running_loss + loss.item()\n",
        "    counter = counter + 1\n",
        "  epoch_loss = running_loss/counter\n",
        "  print('Epoch {}/{}, {} Loss: {:.4f}'.format(ep, epochs, 'Validation', epoch_loss))\n",
        "  val_loss = val_loss + [epoch_loss]\n",
        "  if ep%10 == 0:\n",
        "    print(\"Saving Model after epoch {}\".format(ep))\n",
        "    torch.save(UNET.state_dict(), os.path.join(os.getcwd(), 'unet{}.pth'.format(ep)))"
      ],
      "execution_count": 27,
      "outputs": [
        {
          "output_type": "stream",
          "text": [
            "Epoch 0/100, Training Loss: 1.2814\n",
            "Epoch 0/100, Validation Loss: 1.1177\n",
            "Saving Model after epoch 0\n",
            "Epoch 1/100, Training Loss: 0.9164\n",
            "Epoch 1/100, Validation Loss: 0.8033\n",
            "Epoch 2/100, Training Loss: 0.7639\n",
            "Epoch 2/100, Validation Loss: 0.9364\n",
            "Epoch 3/100, Training Loss: 0.6942\n",
            "Epoch 3/100, Validation Loss: 0.7372\n",
            "Epoch 4/100, Training Loss: 0.6263\n",
            "Epoch 4/100, Validation Loss: 0.8027\n",
            "Epoch 5/100, Training Loss: 0.6178\n",
            "Epoch 5/100, Validation Loss: 0.8852\n",
            "Epoch 6/100, Training Loss: 0.5620\n",
            "Epoch 6/100, Validation Loss: 0.7284\n",
            "Epoch 7/100, Training Loss: 0.5432\n",
            "Epoch 7/100, Validation Loss: 0.7473\n",
            "Epoch 8/100, Training Loss: 0.5398\n",
            "Epoch 8/100, Validation Loss: 0.6665\n",
            "Epoch 9/100, Training Loss: 0.4865\n",
            "Epoch 9/100, Validation Loss: 0.7747\n",
            "Epoch 10/100, Training Loss: 0.4770\n",
            "Epoch 10/100, Validation Loss: 0.6921\n",
            "Saving Model after epoch 10\n",
            "Epoch 11/100, Training Loss: 0.4495\n",
            "Epoch 11/100, Validation Loss: 0.6755\n",
            "Epoch 12/100, Training Loss: 0.4282\n",
            "Epoch 12/100, Validation Loss: 0.6372\n",
            "Epoch 13/100, Training Loss: 0.4075\n",
            "Epoch 13/100, Validation Loss: 0.6834\n",
            "Epoch 14/100, Training Loss: 0.4000\n",
            "Epoch 14/100, Validation Loss: 0.6644\n",
            "Epoch 15/100, Training Loss: 0.3855\n",
            "Epoch 15/100, Validation Loss: 0.7519\n",
            "Epoch 16/100, Training Loss: 0.3921\n",
            "Epoch 16/100, Validation Loss: 0.8579\n",
            "Epoch 17/100, Training Loss: 0.4141\n",
            "Epoch 17/100, Validation Loss: 0.6300\n",
            "Epoch 18/100, Training Loss: 0.3551\n",
            "Epoch 18/100, Validation Loss: 0.6456\n",
            "Epoch 19/100, Training Loss: 0.3254\n",
            "Epoch 19/100, Validation Loss: 0.6437\n",
            "Epoch 20/100, Training Loss: 0.3158\n",
            "Epoch 20/100, Validation Loss: 0.6660\n",
            "Saving Model after epoch 20\n",
            "Epoch 21/100, Training Loss: 0.3150\n",
            "Epoch 21/100, Validation Loss: 0.7353\n",
            "Epoch 22/100, Training Loss: 0.3412\n",
            "Epoch 22/100, Validation Loss: 0.6967\n",
            "Epoch 23/100, Training Loss: 0.3338\n",
            "Epoch 23/100, Validation Loss: 0.6665\n",
            "Epoch 24/100, Training Loss: 0.3036\n",
            "Epoch 24/100, Validation Loss: 0.6993\n",
            "Epoch 25/100, Training Loss: 0.2786\n",
            "Epoch 25/100, Validation Loss: 0.6663\n",
            "Epoch 26/100, Training Loss: 0.2753\n",
            "Epoch 26/100, Validation Loss: 0.7429\n",
            "Epoch 27/100, Training Loss: 0.2722\n",
            "Epoch 27/100, Validation Loss: 0.7327\n",
            "Epoch 28/100, Training Loss: 0.2733\n",
            "Epoch 28/100, Validation Loss: 0.7116\n",
            "Epoch 29/100, Training Loss: 0.2752\n",
            "Epoch 29/100, Validation Loss: 0.7383\n",
            "Epoch 30/100, Training Loss: 0.2785\n",
            "Epoch 30/100, Validation Loss: 0.7238\n",
            "Saving Model after epoch 30\n",
            "Epoch 31/100, Training Loss: 0.2792\n",
            "Epoch 31/100, Validation Loss: 0.7650\n",
            "Epoch 32/100, Training Loss: 0.2782\n",
            "Epoch 32/100, Validation Loss: 0.6669\n",
            "Epoch 33/100, Training Loss: 0.2628\n",
            "Epoch 33/100, Validation Loss: 0.6951\n",
            "Epoch 34/100, Training Loss: 0.2434\n",
            "Epoch 34/100, Validation Loss: 0.7447\n",
            "Epoch 35/100, Training Loss: 0.2382\n",
            "Epoch 35/100, Validation Loss: 0.7309\n",
            "Epoch 36/100, Training Loss: 0.2354\n",
            "Epoch 36/100, Validation Loss: 0.7544\n",
            "Epoch 37/100, Training Loss: 0.2311\n",
            "Epoch 37/100, Validation Loss: 0.7844\n",
            "Epoch 38/100, Training Loss: 0.2323\n",
            "Epoch 38/100, Validation Loss: 0.7271\n",
            "Epoch 39/100, Training Loss: 0.2329\n",
            "Epoch 39/100, Validation Loss: 0.8459\n",
            "Epoch 40/100, Training Loss: 0.2303\n",
            "Epoch 40/100, Validation Loss: 0.8085\n",
            "Saving Model after epoch 40\n",
            "Epoch 41/100, Training Loss: 0.2288\n",
            "Epoch 41/100, Validation Loss: 0.7406\n",
            "Epoch 42/100, Training Loss: 0.3048\n",
            "Epoch 42/100, Validation Loss: 0.7741\n",
            "Epoch 43/100, Training Loss: 0.2717\n",
            "Epoch 43/100, Validation Loss: 0.7428\n",
            "Epoch 44/100, Training Loss: 0.2252\n",
            "Epoch 44/100, Validation Loss: 0.7222\n",
            "Epoch 45/100, Training Loss: 0.2118\n",
            "Epoch 45/100, Validation Loss: 0.7586\n",
            "Epoch 46/100, Training Loss: 0.2059\n",
            "Epoch 46/100, Validation Loss: 0.7651\n",
            "Epoch 47/100, Training Loss: 0.2053\n",
            "Epoch 47/100, Validation Loss: 0.8388\n",
            "Epoch 48/100, Training Loss: 0.2057\n",
            "Epoch 48/100, Validation Loss: 0.8226\n",
            "Epoch 49/100, Training Loss: 0.2054\n",
            "Epoch 49/100, Validation Loss: 0.8200\n",
            "Epoch 50/100, Training Loss: 0.2056\n",
            "Epoch 50/100, Validation Loss: 0.8041\n",
            "Saving Model after epoch 50\n",
            "Epoch 51/100, Training Loss: 0.2093\n",
            "Epoch 51/100, Validation Loss: 0.8050\n",
            "Epoch 52/100, Training Loss: 0.2098\n",
            "Epoch 52/100, Validation Loss: 0.8456\n",
            "Epoch 53/100, Training Loss: 0.2039\n",
            "Epoch 53/100, Validation Loss: 0.7651\n",
            "Epoch 54/100, Training Loss: 0.2020\n",
            "Epoch 54/100, Validation Loss: 0.9560\n",
            "Epoch 55/100, Training Loss: 0.2122\n",
            "Epoch 55/100, Validation Loss: 0.7929\n",
            "Epoch 56/100, Training Loss: 0.2070\n",
            "Epoch 56/100, Validation Loss: 0.7988\n",
            "Epoch 57/100, Training Loss: 0.2061\n",
            "Epoch 57/100, Validation Loss: 0.8763\n",
            "Epoch 58/100, Training Loss: 0.1924\n",
            "Epoch 58/100, Validation Loss: 0.8544\n",
            "Epoch 59/100, Training Loss: 0.1848\n",
            "Epoch 59/100, Validation Loss: 0.9275\n",
            "Epoch 60/100, Training Loss: 0.1837\n",
            "Epoch 60/100, Validation Loss: 0.8878\n",
            "Saving Model after epoch 60\n",
            "Epoch 61/100, Training Loss: 0.1854\n",
            "Epoch 61/100, Validation Loss: 0.8674\n",
            "Epoch 62/100, Training Loss: 0.1847\n",
            "Epoch 62/100, Validation Loss: 0.8536\n",
            "Epoch 63/100, Training Loss: 0.1862\n",
            "Epoch 63/100, Validation Loss: 0.8830\n",
            "Epoch 64/100, Training Loss: 0.2044\n",
            "Epoch 64/100, Validation Loss: 0.8905\n",
            "Epoch 65/100, Training Loss: 0.2020\n",
            "Epoch 65/100, Validation Loss: 0.8590\n",
            "Epoch 66/100, Training Loss: 0.1886\n",
            "Epoch 66/100, Validation Loss: 0.8418\n",
            "Epoch 67/100, Training Loss: 0.1814\n",
            "Epoch 67/100, Validation Loss: 0.8549\n",
            "Epoch 68/100, Training Loss: 0.1806\n",
            "Epoch 68/100, Validation Loss: 0.9121\n",
            "Epoch 69/100, Training Loss: 0.1793\n",
            "Epoch 69/100, Validation Loss: 0.8867\n",
            "Epoch 70/100, Training Loss: 0.1760\n",
            "Epoch 70/100, Validation Loss: 0.8636\n",
            "Saving Model after epoch 70\n",
            "Epoch 71/100, Training Loss: 0.1757\n",
            "Epoch 71/100, Validation Loss: 0.8693\n",
            "Epoch 72/100, Training Loss: 0.1794\n",
            "Epoch 72/100, Validation Loss: 0.9140\n",
            "Epoch 73/100, Training Loss: 0.1729\n",
            "Epoch 73/100, Validation Loss: 0.9837\n",
            "Epoch 74/100, Training Loss: 0.1696\n",
            "Epoch 74/100, Validation Loss: 0.9246\n",
            "Epoch 75/100, Training Loss: 0.1683\n",
            "Epoch 75/100, Validation Loss: 1.0199\n",
            "Epoch 76/100, Training Loss: 0.2576\n",
            "Epoch 76/100, Validation Loss: 0.8210\n",
            "Epoch 77/100, Training Loss: 0.1855\n",
            "Epoch 77/100, Validation Loss: 0.8555\n",
            "Epoch 78/100, Training Loss: 0.1660\n",
            "Epoch 78/100, Validation Loss: 0.9085\n",
            "Epoch 79/100, Training Loss: 0.1587\n",
            "Epoch 79/100, Validation Loss: 0.9584\n",
            "Epoch 80/100, Training Loss: 0.1573\n",
            "Epoch 80/100, Validation Loss: 0.9507\n",
            "Saving Model after epoch 80\n",
            "Epoch 81/100, Training Loss: 0.1588\n",
            "Epoch 81/100, Validation Loss: 1.0123\n",
            "Epoch 82/100, Training Loss: 0.1623\n",
            "Epoch 82/100, Validation Loss: 0.9437\n",
            "Epoch 83/100, Training Loss: 0.1624\n",
            "Epoch 83/100, Validation Loss: 0.9666\n",
            "Epoch 84/100, Training Loss: 0.1657\n",
            "Epoch 84/100, Validation Loss: 0.9589\n",
            "Epoch 85/100, Training Loss: 0.1650\n",
            "Epoch 85/100, Validation Loss: 0.9836\n",
            "Epoch 86/100, Training Loss: 0.1607\n",
            "Epoch 86/100, Validation Loss: 0.9725\n",
            "Epoch 87/100, Training Loss: 0.1582\n",
            "Epoch 87/100, Validation Loss: 1.0249\n",
            "Epoch 88/100, Training Loss: 0.1591\n",
            "Epoch 88/100, Validation Loss: 1.0115\n",
            "Epoch 89/100, Training Loss: 0.1587\n",
            "Epoch 89/100, Validation Loss: 1.0445\n",
            "Epoch 90/100, Training Loss: 0.1688\n",
            "Epoch 90/100, Validation Loss: 0.9119\n",
            "Saving Model after epoch 90\n",
            "Epoch 91/100, Training Loss: 0.1627\n",
            "Epoch 91/100, Validation Loss: 1.0563\n",
            "Epoch 92/100, Training Loss: 0.1589\n",
            "Epoch 92/100, Validation Loss: 1.0199\n",
            "Epoch 93/100, Training Loss: 0.1550\n",
            "Epoch 93/100, Validation Loss: 1.0121\n",
            "Epoch 94/100, Training Loss: 0.1527\n",
            "Epoch 94/100, Validation Loss: 1.0566\n",
            "Epoch 95/100, Training Loss: 0.1533\n",
            "Epoch 95/100, Validation Loss: 1.0551\n",
            "Epoch 96/100, Training Loss: 0.1552\n",
            "Epoch 96/100, Validation Loss: 1.0186\n",
            "Epoch 97/100, Training Loss: 0.1583\n",
            "Epoch 97/100, Validation Loss: 0.9954\n",
            "Epoch 98/100, Training Loss: 0.1559\n",
            "Epoch 98/100, Validation Loss: 1.0368\n",
            "Epoch 99/100, Training Loss: 0.1513\n",
            "Epoch 99/100, Validation Loss: 1.0658\n"
          ],
          "name": "stdout"
        }
      ]
    },
    {
      "cell_type": "code",
      "metadata": {
        "colab": {
          "base_uri": "https://localhost:8080/",
          "height": 281
        },
        "id": "8rWInsUY203c",
        "outputId": "fe9e983b-88e0-4d16-b672-caa2a73c5b79"
      },
      "source": [
        "plt.plot(train_loss, label = 'Training')\n",
        "plt.plot(val_loss, label = 'Validation')\n",
        "plt.title(\"Loss Variation\")\n",
        "plt.legend()\n",
        "plt.show()"
      ],
      "execution_count": 28,
      "outputs": [
        {
          "output_type": "display_data",
          "data": {
            "image/png": "[encoded data removed]",
            "text/plain": [
              "<Figure size 432x288 with 1 Axes>"
            ]
          },
          "metadata": {
            "tags": [],
            "needs_background": "light"
          }
        }
      ]
    },
    {
      "cell_type": "markdown",
      "metadata": {
        "id": "kbUuQ5meiueY"
      },
      "source": [
        "It turns out that overfitting had started after epoch 20. Therefore, using the weights saved at that point."
      ]
    },
    {
      "cell_type": "code",
      "metadata": {
        "colab": {
          "base_uri": "https://localhost:8080/"
        },
        "id": "v_2RsAs0iVgR",
        "outputId": "2ce3205e-8053-4d61-f12d-08f6ea67279d"
      },
      "source": [
        "%ls"
      ],
      "execution_count": 29,
      "outputs": [
        {
          "output_type": "stream",
          "text": [
            "\u001b[0m\u001b[01;34mCamVid\u001b[0m/        license.txt    unet0.pth   unet50.pth  unet.ipynb\n",
            "\u001b[01;34mcityscapes\u001b[0m/    \u001b[01;34mmodels\u001b[0m/        unet10.pth  unet60.pth  utils.py\n",
            "Copy.ipynb     \u001b[01;34m__pycache__\u001b[0m/   unet20.pth  unet70.pth  VanillaUNet.pth\n",
            "dataloader.py  README         unet30.pth  unet80.pth\n",
            "\u001b[01;34mgtFine\u001b[0m/        ResUNet.ipynb  unet40.pth  unet90.pth\n"
          ],
          "name": "stdout"
        }
      ]
    },
    {
      "cell_type": "code",
      "metadata": {
        "id": "jxehBLKljBPP"
      },
      "source": [
        "colors = np.array([[0,0,0], [111,74,0], [81,0,81], [128,64,128], [244, 35, 232]\n",
        "                   ,[250, 170, 160], [230, 150, 140], [70,70,70], [102,102, 156]\n",
        "                   , [190, 153, 153], [180, 165, 180], [150, 100, 100]\n",
        "                   , [150, 120, 90], [153, 153, 153], [250, 170, 30], [220, 220, 0]\n",
        "                   , [107, 142, 35], [152, 251, 152], [70, 130, 180], [220, 20, 60]\n",
        "                   , [255, 0, 0], [0, 0, 142], [0, 0, 70], [0, 60, 100], [0, 0, 90]\n",
        "                   , [0, 0, 110], [0, 80, 100], [0, 0, 230], [119, 11, 32], [0, 0, 142]], dtype = np.uint8)\n",
        "colors = c2g(colors, grayscale = False)"
      ],
      "execution_count": null,
      "outputs": []
    },
    {
      "cell_type": "code",
      "metadata": {
        "id": "ZEdot1ZOjY-7"
      },
      "source": [
        "def testing(image, colors):\n",
        "  class_pix = np.ones([224,224,3], dtype = np.uint8)\n",
        "  for index, c in enumerate(colors):\n",
        "    class_pix[image == index] = c\n",
        "  return class_pix.reshape((224,224,3))"
      ],
      "execution_count": null,
      "outputs": []
    },
    {
      "cell_type": "code",
      "metadata": {
        "id": "WCMPAJfxj0qW"
      },
      "source": [
        "inputs, labels = next(iter(test_loader))"
      ],
      "execution_count": null,
      "outputs": []
    },
    {
      "cell_type": "code",
      "metadata": {
        "id": "0gnnSYGkkWzj"
      },
      "source": [
        "inputs, labels = inputs.to(device), labels.to(device)"
      ],
      "execution_count": null,
      "outputs": []
    },
    {
      "cell_type": "code",
      "metadata": {
        "id": "Ckhyx_RAlBIN"
      },
      "source": [
        "UNET = ResUNet(32)"
      ],
      "execution_count": 30,
      "outputs": []
    },
    {
      "cell_type": "code",
      "metadata": {
        "colab": {
          "base_uri": "https://localhost:8080/"
        },
        "id": "be_hshB-kaig",
        "outputId": "e64c6e62-cdca-4014-d1d2-2774f5de8a92"
      },
      "source": [
        "UNET.load_state_dict(torch.load(os.path.join(os.getcwd(), 'unet20.pth')))"
      ],
      "execution_count": 31,
      "outputs": [
        {
          "output_type": "execute_result",
          "data": {
            "text/plain": [
              "<All keys matched successfully>"
            ]
          },
          "metadata": {
            "tags": []
          },
          "execution_count": 31
        }
      ]
    },
    {
      "cell_type": "code",
      "metadata": {
        "id": "6UBryKq5lwCY"
      },
      "source": [
        "UNET.to(device)"
      ],
      "execution_count": null,
      "outputs": []
    },
    {
      "cell_type": "code",
      "metadata": {
        "id": "uh0nI8waknd_"
      },
      "source": [
        "outputs = UNET(inputs)"
      ],
      "execution_count": 33,
      "outputs": []
    },
    {
      "cell_type": "markdown",
      "metadata": {
        "id": "PMy507xmpHkk"
      },
      "source": [
        "# Jaccard Index Metric"
      ]
    },
    {
      "cell_type": "code",
      "metadata": {
        "id": "AgLEelqFmIjM"
      },
      "source": [
        "IOUf = 0\n",
        "count = 0\n",
        "for i, data in enumerate(test_loader):\n",
        "  inputs, labels = data\n",
        "  inputs = inputs.to(device)\n",
        "  outputs = UNET(inputs)\n",
        "  outputs = outputs.cpu()\n",
        "  outputs = outputs.detach().numpy()\n",
        "  outputs = outputs.argmax(axis = 1)\n",
        "  if labels.size() == torch.Size([outputs.shape[0], 1, 224, 224]):\n",
        "    labels = labels.detach().numpy()\n",
        "    labels = labels.reshape(outputs.shape[0], 224, 224)\n",
        "  outputs = outputs.reshape(outputs.shape[0], 224, 224)\n",
        "  for k in range(outputs.shape[0]):\n",
        "    o = outputs[k, :, :]\n",
        "    l = labels[k, :, :]\n",
        "    IOU = 0\n",
        "    for c in range(32):\n",
        "      intersection = 0\n",
        "      union = 0\n",
        "      f = c * np.ones((1,224,224))\n",
        "      i = (o == c) * 1\n",
        "      j = (l == c) * 1\n",
        "      inte = 0\n",
        "      for x in range(224):\n",
        "        for y in range(224):\n",
        "          if i[x,y] == j[x,y] and i[x,y] == 1:\n",
        "            inte = inte + 1\n",
        "      intersection = intersection + inte\n",
        "      union = union + ((f == l) * 1).sum() + ((f == o) * 1).sum() - inte\n",
        "      if union == 0:\n",
        "        continue\n",
        "      IOUc = intersection/union\n",
        "      IOU = IOU + IOUc\n",
        "    count = count + 1\n",
        "    IOU = IOU/32\n",
        "  IOUf = IOUf + IOU"
      ],
      "execution_count": 34,
      "outputs": []
    },
    {
      "cell_type": "code",
      "metadata": {
        "colab": {
          "base_uri": "https://localhost:8080/"
        },
        "id": "HnCXbpozl1gR",
        "outputId": "183c12bd-e2e4-4c42-926d-4d462bfea206"
      },
      "source": [
        "print(\"IoU: \", IOUf/count)"
      ],
      "execution_count": 35,
      "outputs": [
        {
          "output_type": "stream",
          "text": [
            "IoU:  0.1626141540142357\n"
          ],
          "name": "stdout"
        }
      ]
    },
    {
      "cell_type": "code",
      "metadata": {
        "id": "_CbXQDXUsWbn"
      },
      "source": [
        "inputs, labels = next(iter(test_loader))"
      ],
      "execution_count": 45,
      "outputs": []
    },
    {
      "cell_type": "code",
      "metadata": {
        "colab": {
          "base_uri": "https://localhost:8080/",
          "height": 323
        },
        "id": "mscQNmVlsct9",
        "outputId": "c16a3075-d738-4e1b-cebf-9dfdcaab9539"
      },
      "source": [
        "plt.imshow(ndimage.rotate(np.squeeze(inputs.numpy()).transpose(2,1,0), 270), cmap = 'gray')"
      ],
      "execution_count": 46,
      "outputs": [
        {
          "output_type": "stream",
          "text": [
            "Clipping input data to the valid range for imshow with RGB data ([0..1] for floats or [0..255] for integers).\n"
          ],
          "name": "stderr"
        },
        {
          "output_type": "execute_result",
          "data": {
            "text/plain": [
              "<matplotlib.image.AxesImage at 0x7f33a0a5c4e0>"
            ]
          },
          "metadata": {
            "tags": []
          },
          "execution_count": 46
        },
        {
          "output_type": "display_data",
          "data": {
            "image/png": "[encoded data removed]",
            "text/plain": [
              "<Figure size 432x288 with 1 Axes>"
            ]
          },
          "metadata": {
            "tags": [],
            "needs_background": "light"
          }
        }
      ]
    },
    {
      "cell_type": "code",
      "metadata": {
        "id": "xypuMp6otCEx"
      },
      "source": [
        "inputs = inputs.to(device)\n",
        "outputs = UNET(inputs)"
      ],
      "execution_count": 47,
      "outputs": []
    },
    {
      "cell_type": "code",
      "metadata": {
        "id": "RCJiAhZotFfT"
      },
      "source": [
        "outputs = outputs.cpu()\n",
        "outputs = outputs.detach().numpy()\n",
        "outputs = outputs.argmax(axis = 1)"
      ],
      "execution_count": 48,
      "outputs": []
    },
    {
      "cell_type": "code",
      "metadata": {
        "colab": {
          "base_uri": "https://localhost:8080/",
          "height": 286
        },
        "id": "OeaG7STrtORq",
        "outputId": "e2121313-ffc5-4777-cd56-e48fa821d70d"
      },
      "source": [
        "plt.imshow(outputs[0])"
      ],
      "execution_count": 49,
      "outputs": [
        {
          "output_type": "execute_result",
          "data": {
            "text/plain": [
              "<matplotlib.image.AxesImage at 0x7f33a07104a8>"
            ]
          },
          "metadata": {
            "tags": []
          },
          "execution_count": 49
        },
        {
          "output_type": "display_data",
          "data": {
            "image/png": "[encoded data removed]",
            "text/plain": [
              "<Figure size 432x288 with 1 Axes>"
            ]
          },
          "metadata": {
            "tags": [],
            "needs_background": "light"
          }
        }
      ]
    },
    {
      "cell_type": "code",
      "metadata": {
        "id": "XIXRSA8csHo5"
      },
      "source": [
        ""
      ],
      "execution_count": null,
      "outputs": []
    }
  ]
}